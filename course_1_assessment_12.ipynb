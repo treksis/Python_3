{
 "cells": [
  {
   "cell_type": "code",
   "execution_count": 7,
   "metadata": {},
   "outputs": [],
   "source": [
    "#Below are a set of scores that students have received in the past semester. Write code to determine how many are 90 or above and assign that result to the value a_scores.\n",
    "\n",
    "scores = \"67 80 90 78 93 20 79 89 96 97 92 88 79 68 58 90 98 100 79 74 83 88 80 86 85 70 90 100\"\n",
    "\n",
    "a_scores_lst = []\n",
    "\n",
    "for i in scores.split(\" \"):\n",
    "    if int(i) >= 90:\n",
    "        a_scores_lst.append(i)\n",
    "a_scores = len(a_scores_lst)\n"
   ]
  },
  {
   "cell_type": "code",
   "execution_count": 34,
   "metadata": {},
   "outputs": [
    {
     "name": "stdout",
     "output_type": "stream",
     "text": [
      "['O', 'H', 'S', 'E']\n",
      "OHSE\n"
     ]
    }
   ],
   "source": [
    "#Write code that uses the string stored in org and creates an acronym which is assigned to the variable acro. Only the first letter of each word should be used, each letter in the acronym should be a capital letter, and there should be nothing to separate the letters of the acronym. Words that should not be included in the acronym are stored in the list stopwords. For example, if org was assigned the string “hello to world” then the resulting acronym should be “HW”.\n",
    "\n",
    "stopwords = ['to', 'a', 'for', 'by', 'an', 'am', 'the', 'so', 'it', 'and', \"The\"]\n",
    "org = \"The organization for health, safety, and education\"\n",
    "\n",
    "acro_lst = []\n",
    "for i in org.split(\" \"):\n",
    "    if i not in stopwords:\n",
    "        acro_lst.append(i.upper()[0])\n",
    "        \n",
    "print(acro_lst)\n",
    "acro = \"\"\n",
    "\n",
    "for j in acro_lst:\n",
    "    acro = acro + j\n",
    "print(acro)\n"
   ]
  },
  {
   "cell_type": "code",
   "execution_count": 54,
   "metadata": {},
   "outputs": [
    {
     "name": "stdout",
     "output_type": "stream",
     "text": [
      "water\n",
      "earth\n",
      "air\n",
      "are\n",
      "vital\n",
      "['WA. ', 'EA. ', 'AI. ', 'AR. ', 'VI']\n",
      "WA. EA. AI. AR. VI\n"
     ]
    }
   ],
   "source": [
    "#Write code that uses the string stored in sent and creates an acronym which is assigned to the variable acro. The first two letters of each word should be used, each letter in the acronym should be a capital letter, and each element of the acronym should be separated by a “. ” (dot and space). Words that should not be included in the acronym are stored in the list stopwords. For example, if sent was assigned the string “height and ewok wonder” then the resulting acronym should be “HE. EW. WO”.\n",
    "\n",
    "stopwords = ['to', 'a', 'for', 'by', 'an', 'am', 'the', 'so', 'it', 'and', 'The']\n",
    "sent = \"The water earth and air are vital\"\n",
    "\n",
    "acro_lst = []\n",
    "for i in sent.split(\" \"):\n",
    "    if i not in stopwords:\n",
    "        print(i)\n",
    "        acro_lst.append(i.upper()[0:2] + \". \")\n",
    "        \n",
    "acro_lst[-1] = acro_lst[-1].replace(\".\", \"\").replace(\" \",\"\")\n",
    "print(acro_lst)\n",
    "acro = \"\"\n",
    "for j in acro_lst:\n",
    "    acro = acro +j\n",
    "    \n",
    "print(acro)"
   ]
  },
  {
   "cell_type": "code",
   "execution_count": 64,
   "metadata": {},
   "outputs": [
    {
     "name": "stdout",
     "output_type": "stream",
     "text": [
      "was I tac a ro rac a ti saw\n"
     ]
    }
   ],
   "source": [
    "# A palindrome is a phrase that, if reversed, would read the exact same. Write code that checks if p_phrase is a palindrome by reversing it and then checking if the reversed version is equal to the original. Assign the reversed version of p_phrase to the variable r_phrase so that we can check your work.\n",
    "\n",
    "p_phrase = \"was it a car or a cat I saw\"\n",
    "r_phrase = p_phrase[::-1]\n",
    "\n",
    "print(r_phrase)\n",
    "\n",
    "\n"
   ]
  },
  {
   "cell_type": "code",
   "execution_count": 98,
   "metadata": {},
   "outputs": [
    {
     "name": "stdout",
     "output_type": "stream",
     "text": [
      "[['shoes', '12', '29.99'], ['shirts', '20', '9.99'], ['sweatpants', '25', '15.00'], ['scarves', '13', '7.75']]\n",
      "The store has shoes 12, each for 29.99 USD.\n",
      "The store has shirts 20, each for 9.99 USD.\n",
      "The store has sweatpants 25, each for 15.00 USD.\n",
      "The store has scarves 13, each for 7.75 USD.\n"
     ]
    }
   ],
   "source": [
    "#Provided is a list of data about a store’s inventory where each item in the list represents the name of an item, how much is in stock, and how much it costs. Print out each item in the list with the same formatting, using the .format method (not string concatenation). For example, the first print statment should read The store has 12 shoes, each for 29.99 USD.\n",
    "\n",
    "inventory = [\"shoes, 12, 29.99\", \"shirts, 20, 9.99\", \"sweatpants, 25, 15.00\", \"scarves, 13, 7.75\"]\n",
    "inventory_lst = []\n",
    "for i in inventory:\n",
    "    inventory_lst.append(i.split(\", \"))\n",
    "\n",
    "print(inventory_lst)\n",
    "\n",
    "for j in inventory_lst:\n",
    "    item = j[0]\n",
    "    number = j[1]\n",
    "    price = j[2]\n",
    "    print(\"The store has {} {}, each for {} USD.\".format(item, number, price))\n",
    "\n"
   ]
  },
  {
   "cell_type": "code",
   "execution_count": null,
   "metadata": {},
   "outputs": [],
   "source": []
  },
  {
   "cell_type": "code",
   "execution_count": null,
   "metadata": {},
   "outputs": [],
   "source": []
  }
 ],
 "metadata": {
  "kernelspec": {
   "display_name": "Python 3",
   "language": "python",
   "name": "python3"
  },
  "language_info": {
   "codemirror_mode": {
    "name": "ipython",
    "version": 3
   },
   "file_extension": ".py",
   "mimetype": "text/x-python",
   "name": "python",
   "nbconvert_exporter": "python",
   "pygments_lexer": "ipython3",
   "version": "3.7.1"
  }
 },
 "nbformat": 4,
 "nbformat_minor": 2
}
