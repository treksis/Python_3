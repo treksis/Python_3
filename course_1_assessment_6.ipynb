{
 "cells": [
  {
   "cell_type": "code",
   "execution_count": 1,
   "metadata": {},
   "outputs": [
    {
     "name": "stdout",
     "output_type": "stream",
     "text": [
      "M\n",
      "I\n",
      "C\n",
      "H\n",
      "I\n",
      "G\n",
      "A\n",
      "N\n"
     ]
    }
   ],
   "source": [
    "#Write one for loop to print out each character of the string my_str on a separate line.\n",
    "\n",
    "my_str = \"MICHIGAN\"\n",
    "\n",
    "for i in my_str:\n",
    "    print(i)"
   ]
  },
  {
   "cell_type": "code",
   "execution_count": 2,
   "metadata": {},
   "outputs": [
    {
     "name": "stdout",
     "output_type": "stream",
     "text": [
      "hello\n",
      "2\n",
      "4\n",
      "6.0\n",
      "7.5\n",
      "234352354\n",
      "the end\n",
      "\n",
      "99\n",
      "<class 'str'>\n",
      "<class 'int'>\n",
      "<class 'int'>\n",
      "<class 'float'>\n",
      "<class 'float'>\n",
      "<class 'int'>\n",
      "<class 'str'>\n",
      "<class 'str'>\n",
      "<class 'int'>\n"
     ]
    }
   ],
   "source": [
    "#Write one for loop to print out each element of the list several_things. Then, write another for loop to print out the TYPE of each element of the list several_things. To complete this problem you should have written two different for loops, each of which iterates over the list several_things, but each of those 2 for loops should have a different result.\n",
    "\n",
    "several_things = [\"hello\", 2, 4, 6.0, 7.5, 234352354, \"the end\", \"\", 99]\n",
    "\n",
    "for i in several_things:\n",
    "    print(i)\n",
    "    \n",
    "for j in several_things:\n",
    "    print(type(j))"
   ]
  },
  {
   "cell_type": "code",
   "execution_count": 3,
   "metadata": {},
   "outputs": [
    {
     "name": "stdout",
     "output_type": "stream",
     "text": [
      "5\n",
      "0\n",
      "7\n",
      "9\n",
      "13\n"
     ]
    }
   ],
   "source": [
    "#Write code that uses iteration to print out the length of each element of the list stored in str_list.\n",
    "\n",
    "str_list = [\"hello\", \"\", \"goodbye\", \"wonderful\", \"I love Python\"]\n",
    "\n",
    "# Write your code here.\n",
    "for i in str_list:\n",
    "    print(len(i))"
   ]
  },
  {
   "cell_type": "code",
   "execution_count": 13,
   "metadata": {},
   "outputs": [
    {
     "name": "stdout",
     "output_type": "stream",
     "text": [
      "57\n"
     ]
    }
   ],
   "source": [
    "#Write code to count the number of characters in original_str using the accumulation pattern and assign the answer to a variable num_chars. Do NOT use the len function to solve the problem (if you use it while you are working on this problem, comment it out afterward!)\n",
    "\n",
    "original_str = \"The quick brown rhino jumped over the extremely lazy fox.\"\n",
    "\n",
    "num_chars = 0\n",
    "\n",
    "for i in original_str:\n",
    "    num_chars = num_chars + 1\n",
    "\n",
    "print(num_chars)\n"
   ]
  },
  {
   "cell_type": "code",
   "execution_count": 14,
   "metadata": {},
   "outputs": [
    {
     "name": "stdout",
     "output_type": "stream",
     "text": [
      "['2', '5', '10', '20']\n",
      "37\n"
     ]
    }
   ],
   "source": [
    "#addition_str is a string with a list of numbers separated by the + sign. Write code that uses the accumulation pattern to take the sum of all of the numbers and assigns it to sum_val (an integer). (You should use the .split(\"+\") function to split by \"+\" and int() to cast to an integer).\n",
    "\n",
    "addition_str = \"2+5+10+20\"\n",
    "\n",
    "print(addition_str.split(\"+\"))\n",
    "\n",
    "sum_val = 0\n",
    "\n",
    "for i in addition_str.split(\"+\"):\n",
    "    sum_val = sum_val + int(i)\n",
    "    \n",
    "print(sum_val)"
   ]
  },
  {
   "cell_type": "code",
   "execution_count": 21,
   "metadata": {},
   "outputs": [
    {
     "name": "stdout",
     "output_type": "stream",
     "text": [
      "['75.1', '77.7', '83.2', '82.5', '81.0', '79.5', '85.7']\n",
      "80.67142857142858\n"
     ]
    }
   ],
   "source": [
    "#week_temps_f is a string with a list of fahrenheit temperatures separated by the , sign. Write code that uses the accumulation pattern to compute the average (sum divided by number of items) and assigns it to avg_temp. Do not hard code your answer (i.e., make your code compute both the sum or the number of items in week_temps_f) (You should use the .split(\",\") function to split by \",\" and float() to cast to a float).\n",
    "\n",
    "week_temps_f = \"75.1,77.7,83.2,82.5,81.0,79.5,85.7\"\n",
    "\n",
    "print(week_temps_f.split(\",\"))\n",
    "sum_temp = 0\n",
    "\n",
    "for i in week_temps_f.split(\",\"):\n",
    "    sum_temp = sum_temp + float(i)\n",
    "    \n",
    "avg_temp = sum_temp/len(week_temps_f.split(\",\"))\n",
    "print(avg_temp)"
   ]
  },
  {
   "cell_type": "code",
   "execution_count": 27,
   "metadata": {},
   "outputs": [
    {
     "name": "stdout",
     "output_type": "stream",
     "text": [
      "[0, 1, 2, 3, 4, 5, 6, 7, 8, 9, 10, 11, 12, 13, 14, 15, 16, 17, 18, 19, 20, 21, 22, 23, 24, 25, 26, 27, 28, 29, 30, 31, 32, 33, 34, 35, 36, 37, 38, 39, 40, 41, 42, 43, 44, 45, 46, 47, 48, 49, 50, 51, 52, 53, 54, 55, 56, 57, 58, 59, 60, 61, 62, 63, 64, 65, 66, 67]\n"
     ]
    }
   ],
   "source": [
    "# Write code to create a list of numbers from 0 to 67 and assign that list to the variable nums. Do not hard code the list.\n",
    "\n",
    "nums = []\n",
    "\n",
    "for i in range(0,68):\n",
    "    i = i\n",
    "    nums.append(i)\n",
    "print(nums)"
   ]
  },
  {
   "cell_type": "code",
   "execution_count": 39,
   "metadata": {},
   "outputs": [
    {
     "name": "stdout",
     "output_type": "stream",
     "text": [
      "['The', 'quick', 'brown', 'rhino', 'jumped', 'over', 'the', 'extremely', 'lazy', 'fox']\n",
      "The\n",
      "3\n",
      "quick\n",
      "5\n",
      "brown\n",
      "5\n",
      "rhino\n",
      "5\n",
      "jumped\n",
      "6\n",
      "over\n",
      "4\n",
      "the\n",
      "3\n",
      "extremely\n",
      "9\n",
      "lazy\n",
      "4\n",
      "fox\n",
      "3\n",
      "[3, 5, 5, 5, 6, 4, 3, 9, 4, 3]\n"
     ]
    }
   ],
   "source": [
    "#Write code to create a list of word lengths for the words in original_str using the accumulation pattern and assign the answer to a variable num_words_list. (You should use the len function).\n",
    "\n",
    "original_str = \"The quick brown rhino jumped over the extremely lazy fox\"\n",
    "\n",
    "num_words_list=[]\n",
    "\n",
    "print(original_str.split(\" \"))\n",
    "for i in original_str.split(\" \"):\n",
    "    print(i)\n",
    "    print(len(i))\n",
    "    num_words_list.append(len(i))\n",
    "\n",
    "print(num_words_list)"
   ]
  },
  {
   "cell_type": "code",
   "execution_count": 46,
   "metadata": {},
   "outputs": [
    {
     "name": "stdout",
     "output_type": "stream",
     "text": [
      "bbbbbbb\n"
     ]
    }
   ],
   "source": [
    "#Create an empty string and assign it to the variable lett. Then using range, write code such that when your code is run, lett has 7 b’s (\"bbbbbbb\").\n",
    "\n",
    "lett = \"\"\n",
    "\n",
    "for i in range(7):\n",
    "    \n",
    "    lett = lett + \"b\"\n",
    "\n",
    "print(lett)"
   ]
  },
  {
   "cell_type": "code",
   "execution_count": 47,
   "metadata": {},
   "outputs": [],
   "source": [
    "#Write a program that uses the turtle module and a for loop to draw something. It doesn’t have to be complicated, but draw something different than we have done in the past. (Hint: if you are drawing something complicated, it could get tedious to watch it draw over and over. Try setting .speed(10) for the turtle to draw fast, or .speed(0) for it to draw super fast with no animation.)\n",
    "\n",
    "import turtle\n",
    "wn = turtle.Screen()\n",
    "tt = turtle.Turtle()\n",
    "tt.shape(\"turtle\")\n",
    "d = 30\n",
    "a = 30\n",
    "tt.speed(0)\n",
    "\n",
    "for i in range(100):\n",
    "        \n",
    "        tt.forward(d)\n",
    "        tt.right(a)"
   ]
  },
  {
   "cell_type": "code",
   "execution_count": null,
   "metadata": {},
   "outputs": [],
   "source": []
  }
 ],
 "metadata": {
  "kernelspec": {
   "display_name": "Python 3",
   "language": "python",
   "name": "python3"
  },
  "language_info": {
   "codemirror_mode": {
    "name": "ipython",
    "version": 3
   },
   "file_extension": ".py",
   "mimetype": "text/x-python",
   "name": "python",
   "nbconvert_exporter": "python",
   "pygments_lexer": "ipython3",
   "version": "3.7.1"
  }
 },
 "nbformat": 4,
 "nbformat_minor": 2
}
